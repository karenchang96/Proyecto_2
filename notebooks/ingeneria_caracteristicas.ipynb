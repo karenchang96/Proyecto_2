{
 "cells": [
  {
   "cell_type": "code",
   "execution_count": 1,
   "metadata": {},
   "outputs": [],
   "source": [
    "#Contiene todas las modificaciones para implementar modelos.\n",
    "import pandas as pd\n",
    "from sklearn.impute import SimpleImputer \n",
    "from sklearn.preprocessing import LabelEncoder"
   ]
  },
  {
   "cell_type": "code",
   "execution_count": 2,
   "metadata": {},
   "outputs": [
    {
     "data": {
      "text/html": [
       "<div>\n",
       "<style scoped>\n",
       "    .dataframe tbody tr th:only-of-type {\n",
       "        vertical-align: middle;\n",
       "    }\n",
       "\n",
       "    .dataframe tbody tr th {\n",
       "        vertical-align: top;\n",
       "    }\n",
       "\n",
       "    .dataframe thead th {\n",
       "        text-align: right;\n",
       "    }\n",
       "</style>\n",
       "<table border=\"1\" class=\"dataframe\">\n",
       "  <thead>\n",
       "    <tr style=\"text-align: right;\">\n",
       "      <th></th>\n",
       "      <th>mora</th>\n",
       "      <th>atraso</th>\n",
       "      <th>vivienda</th>\n",
       "      <th>edad</th>\n",
       "      <th>dias_lab</th>\n",
       "      <th>exp_sf</th>\n",
       "      <th>nivel_ahorro</th>\n",
       "      <th>ingreso</th>\n",
       "      <th>linea_sf</th>\n",
       "      <th>deuda_sf</th>\n",
       "      <th>score</th>\n",
       "      <th>zona</th>\n",
       "      <th>clasif_sbs</th>\n",
       "      <th>nivel_educ</th>\n",
       "    </tr>\n",
       "  </thead>\n",
       "  <tbody>\n",
       "    <tr>\n",
       "      <th>0</th>\n",
       "      <td>0</td>\n",
       "      <td>235</td>\n",
       "      <td>FAMILIAR</td>\n",
       "      <td>30</td>\n",
       "      <td>3748</td>\n",
       "      <td>93.0</td>\n",
       "      <td>5</td>\n",
       "      <td>3500.0</td>\n",
       "      <td>NaN</td>\n",
       "      <td>0.00</td>\n",
       "      <td>214</td>\n",
       "      <td>Lima</td>\n",
       "      <td>4</td>\n",
       "      <td>UNIVERSITARIA</td>\n",
       "    </tr>\n",
       "    <tr>\n",
       "      <th>1</th>\n",
       "      <td>0</td>\n",
       "      <td>18</td>\n",
       "      <td>FAMILIAR</td>\n",
       "      <td>32</td>\n",
       "      <td>4598</td>\n",
       "      <td>9.0</td>\n",
       "      <td>12</td>\n",
       "      <td>900.0</td>\n",
       "      <td>1824.67</td>\n",
       "      <td>1933.75</td>\n",
       "      <td>175</td>\n",
       "      <td>La Libertad</td>\n",
       "      <td>1</td>\n",
       "      <td>TECNICA</td>\n",
       "    </tr>\n",
       "    <tr>\n",
       "      <th>2</th>\n",
       "      <td>0</td>\n",
       "      <td>0</td>\n",
       "      <td>FAMILIAR</td>\n",
       "      <td>26</td>\n",
       "      <td>5148</td>\n",
       "      <td>8.0</td>\n",
       "      <td>2</td>\n",
       "      <td>2400.0</td>\n",
       "      <td>2797.38</td>\n",
       "      <td>188.29</td>\n",
       "      <td>187</td>\n",
       "      <td>Lima</td>\n",
       "      <td>0</td>\n",
       "      <td>UNIVERSITARIA</td>\n",
       "    </tr>\n",
       "    <tr>\n",
       "      <th>3</th>\n",
       "      <td>0</td>\n",
       "      <td>0</td>\n",
       "      <td>FAMILIAR</td>\n",
       "      <td>36</td>\n",
       "      <td>5179</td>\n",
       "      <td>20.0</td>\n",
       "      <td>12</td>\n",
       "      <td>2700.0</td>\n",
       "      <td>NaN</td>\n",
       "      <td>0.00</td>\n",
       "      <td>187</td>\n",
       "      <td>Ancash</td>\n",
       "      <td>0</td>\n",
       "      <td>TECNICA</td>\n",
       "    </tr>\n",
       "    <tr>\n",
       "      <th>4</th>\n",
       "      <td>0</td>\n",
       "      <td>0</td>\n",
       "      <td>FAMILIAR</td>\n",
       "      <td>46</td>\n",
       "      <td>3960</td>\n",
       "      <td>NaN</td>\n",
       "      <td>1</td>\n",
       "      <td>3100.0</td>\n",
       "      <td>2000.00</td>\n",
       "      <td>11010.65</td>\n",
       "      <td>189</td>\n",
       "      <td>Lima</td>\n",
       "      <td>0</td>\n",
       "      <td>TECNICA</td>\n",
       "    </tr>\n",
       "  </tbody>\n",
       "</table>\n",
       "</div>"
      ],
      "text/plain": [
       "   mora  atraso  vivienda  edad  dias_lab  exp_sf  nivel_ahorro  ingreso  \\\n",
       "0     0     235  FAMILIAR    30      3748    93.0             5   3500.0   \n",
       "1     0      18  FAMILIAR    32      4598     9.0            12    900.0   \n",
       "2     0       0  FAMILIAR    26      5148     8.0             2   2400.0   \n",
       "3     0       0  FAMILIAR    36      5179    20.0            12   2700.0   \n",
       "4     0       0  FAMILIAR    46      3960     NaN             1   3100.0   \n",
       "\n",
       "   linea_sf  deuda_sf  score         zona  clasif_sbs     nivel_educ  \n",
       "0       NaN      0.00    214         Lima           4  UNIVERSITARIA  \n",
       "1   1824.67   1933.75    175  La Libertad           1        TECNICA  \n",
       "2   2797.38    188.29    187         Lima           0  UNIVERSITARIA  \n",
       "3       NaN      0.00    187       Ancash           0        TECNICA  \n",
       "4   2000.00  11010.65    189         Lima           0        TECNICA  "
      ]
     },
     "execution_count": 2,
     "metadata": {},
     "output_type": "execute_result"
    }
   ],
   "source": [
    "dataset = pd.read_csv(\"../data/raw/data.csv\")\n",
    "dataset.head()"
   ]
  },
  {
   "cell_type": "code",
   "execution_count": 3,
   "metadata": {},
   "outputs": [],
   "source": [
    "# Definir las columnas numéricas y categóricas\n",
    "num_features = ['edad', 'dias_lab', 'exp_sf', 'nivel_ahorro', 'ingreso',\n",
    "'linea_sf', 'deuda_sf', 'score','clasif_sbs']\n",
    "cat_features = ['vivienda', 'zona', 'nivel_educ']"
   ]
  },
  {
   "cell_type": "code",
   "execution_count": 4,
   "metadata": {},
   "outputs": [],
   "source": [
    "num_imputer = SimpleImputer(strategy='mean')\n",
    "dataset[num_features] = num_imputer.fit_transform(dataset[num_features])"
   ]
  },
  {
   "cell_type": "markdown",
   "metadata": {},
   "source": [
    "### Ingeniería de características "
   ]
  },
  {
   "cell_type": "code",
   "execution_count": 5,
   "metadata": {},
   "outputs": [
    {
     "name": "stdout",
     "output_type": "stream",
     "text": [
      "   mora  atraso  vivienda  edad  dias_lab     exp_sf  nivel_ahorro  ingreso  \\\n",
      "0     0     235         1  30.0    3748.0  93.000000           5.0   3500.0   \n",
      "1     0      18         1  32.0    4598.0   9.000000          12.0    900.0   \n",
      "2     0       0         1  26.0    5148.0   8.000000           2.0   2400.0   \n",
      "3     0       0         1  36.0    5179.0  20.000000          12.0   2700.0   \n",
      "4     0       0         1  46.0    3960.0  32.401583           1.0   3100.0   \n",
      "\n",
      "       linea_sf  deuda_sf  score  zona  clasif_sbs  nivel_educ  \n",
      "0  11987.241038      0.00  214.0    14         4.0           3  \n",
      "1   1824.670000   1933.75  175.0    12         1.0           2  \n",
      "2   2797.380000    188.29  187.0    14         0.0           3  \n",
      "3  11987.241038      0.00  187.0     1         0.0           2  \n",
      "4   2000.000000  11010.65  189.0    14         0.0           2  \n"
     ]
    }
   ],
   "source": [
    "# Crear un codificador (LabelEncoder)\n",
    "label_encoder = LabelEncoder()\n",
    "# Aplicar Label Encoding a cada columna categórica\n",
    "for col in cat_features:\n",
    "    dataset[col] = label_encoder.fit_transform(dataset[col])\n",
    "# Ver las primeras filas del dataset con las columnas codificadas\n",
    "print(dataset.head())"
   ]
  },
  {
   "cell_type": "code",
   "execution_count": null,
   "metadata": {},
   "outputs": [],
   "source": [
    "dataset.to_csv(\"../data/raw/dataset_preparado.csv\")"
   ]
  },
  {
   "cell_type": "code",
   "execution_count": 7,
   "metadata": {},
   "outputs": [
    {
     "data": {
      "text/plain": [
       "mora            0.0\n",
       "atraso          0.0\n",
       "vivienda        0.0\n",
       "edad            0.0\n",
       "dias_lab        0.0\n",
       "exp_sf          0.0\n",
       "nivel_ahorro    0.0\n",
       "ingreso         0.0\n",
       "linea_sf        0.0\n",
       "deuda_sf        0.0\n",
       "score           0.0\n",
       "zona            0.0\n",
       "clasif_sbs      0.0\n",
       "nivel_educ      0.0\n",
       "dtype: float64"
      ]
     },
     "execution_count": 7,
     "metadata": {},
     "output_type": "execute_result"
    }
   ],
   "source": [
    "dataset.isnull().mean()"
   ]
  }
 ],
 "metadata": {
  "kernelspec": {
   "display_name": "venv-churning-model",
   "language": "python",
   "name": "python3"
  },
  "language_info": {
   "codemirror_mode": {
    "name": "ipython",
    "version": 3
   },
   "file_extension": ".py",
   "mimetype": "text/x-python",
   "name": "python",
   "nbconvert_exporter": "python",
   "pygments_lexer": "ipython3",
   "version": "3.11.10"
  }
 },
 "nbformat": 4,
 "nbformat_minor": 2
}
