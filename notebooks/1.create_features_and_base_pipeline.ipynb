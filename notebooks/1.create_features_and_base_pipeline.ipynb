{
 "cells": [
  {
   "cell_type": "code",
   "execution_count": null,
   "metadata": {},
   "outputs": [],
   "source": [
    "import pandas as pd\n",
    "import numpy as np\n",
    "import matplotlib.pyplot as plt\n",
    "import seaborn as sns\n",
    "from sklearn.impute import SimpleImputer \n",
    "from sklearn.preprocessing import StandardScaler\n",
    "from sklearn.model_selection import train_test_split\n",
    "from sklearn.preprocessing import LabelEncoder\n"
   ]
  },
  {
   "cell_type": "code",
   "execution_count": 2,
   "metadata": {},
   "outputs": [
    {
     "data": {
      "text/html": [
       "<div>\n",
       "<style scoped>\n",
       "    .dataframe tbody tr th:only-of-type {\n",
       "        vertical-align: middle;\n",
       "    }\n",
       "\n",
       "    .dataframe tbody tr th {\n",
       "        vertical-align: top;\n",
       "    }\n",
       "\n",
       "    .dataframe thead th {\n",
       "        text-align: right;\n",
       "    }\n",
       "</style>\n",
       "<table border=\"1\" class=\"dataframe\">\n",
       "  <thead>\n",
       "    <tr style=\"text-align: right;\">\n",
       "      <th></th>\n",
       "      <th>mora</th>\n",
       "      <th>atraso</th>\n",
       "      <th>vivienda</th>\n",
       "      <th>edad</th>\n",
       "      <th>dias_lab</th>\n",
       "      <th>exp_sf</th>\n",
       "      <th>nivel_ahorro</th>\n",
       "      <th>ingreso</th>\n",
       "      <th>linea_sf</th>\n",
       "      <th>deuda_sf</th>\n",
       "      <th>score</th>\n",
       "      <th>zona</th>\n",
       "      <th>clasif_sbs</th>\n",
       "      <th>nivel_educ</th>\n",
       "    </tr>\n",
       "  </thead>\n",
       "  <tbody>\n",
       "    <tr>\n",
       "      <th>0</th>\n",
       "      <td>0</td>\n",
       "      <td>235</td>\n",
       "      <td>FAMILIAR</td>\n",
       "      <td>30</td>\n",
       "      <td>3748</td>\n",
       "      <td>93.0</td>\n",
       "      <td>5</td>\n",
       "      <td>3500.0</td>\n",
       "      <td>NaN</td>\n",
       "      <td>0.00</td>\n",
       "      <td>214</td>\n",
       "      <td>Lima</td>\n",
       "      <td>4</td>\n",
       "      <td>UNIVERSITARIA</td>\n",
       "    </tr>\n",
       "    <tr>\n",
       "      <th>1</th>\n",
       "      <td>0</td>\n",
       "      <td>18</td>\n",
       "      <td>FAMILIAR</td>\n",
       "      <td>32</td>\n",
       "      <td>4598</td>\n",
       "      <td>9.0</td>\n",
       "      <td>12</td>\n",
       "      <td>900.0</td>\n",
       "      <td>1824.67</td>\n",
       "      <td>1933.75</td>\n",
       "      <td>175</td>\n",
       "      <td>La Libertad</td>\n",
       "      <td>1</td>\n",
       "      <td>TECNICA</td>\n",
       "    </tr>\n",
       "    <tr>\n",
       "      <th>2</th>\n",
       "      <td>0</td>\n",
       "      <td>0</td>\n",
       "      <td>FAMILIAR</td>\n",
       "      <td>26</td>\n",
       "      <td>5148</td>\n",
       "      <td>8.0</td>\n",
       "      <td>2</td>\n",
       "      <td>2400.0</td>\n",
       "      <td>2797.38</td>\n",
       "      <td>188.29</td>\n",
       "      <td>187</td>\n",
       "      <td>Lima</td>\n",
       "      <td>0</td>\n",
       "      <td>UNIVERSITARIA</td>\n",
       "    </tr>\n",
       "    <tr>\n",
       "      <th>3</th>\n",
       "      <td>0</td>\n",
       "      <td>0</td>\n",
       "      <td>FAMILIAR</td>\n",
       "      <td>36</td>\n",
       "      <td>5179</td>\n",
       "      <td>20.0</td>\n",
       "      <td>12</td>\n",
       "      <td>2700.0</td>\n",
       "      <td>NaN</td>\n",
       "      <td>0.00</td>\n",
       "      <td>187</td>\n",
       "      <td>Ancash</td>\n",
       "      <td>0</td>\n",
       "      <td>TECNICA</td>\n",
       "    </tr>\n",
       "    <tr>\n",
       "      <th>4</th>\n",
       "      <td>0</td>\n",
       "      <td>0</td>\n",
       "      <td>FAMILIAR</td>\n",
       "      <td>46</td>\n",
       "      <td>3960</td>\n",
       "      <td>NaN</td>\n",
       "      <td>1</td>\n",
       "      <td>3100.0</td>\n",
       "      <td>2000.00</td>\n",
       "      <td>11010.65</td>\n",
       "      <td>189</td>\n",
       "      <td>Lima</td>\n",
       "      <td>0</td>\n",
       "      <td>TECNICA</td>\n",
       "    </tr>\n",
       "  </tbody>\n",
       "</table>\n",
       "</div>"
      ],
      "text/plain": [
       "   mora  atraso  vivienda  edad  dias_lab  exp_sf  nivel_ahorro  ingreso  \\\n",
       "0     0     235  FAMILIAR    30      3748    93.0             5   3500.0   \n",
       "1     0      18  FAMILIAR    32      4598     9.0            12    900.0   \n",
       "2     0       0  FAMILIAR    26      5148     8.0             2   2400.0   \n",
       "3     0       0  FAMILIAR    36      5179    20.0            12   2700.0   \n",
       "4     0       0  FAMILIAR    46      3960     NaN             1   3100.0   \n",
       "\n",
       "   linea_sf  deuda_sf  score         zona  clasif_sbs     nivel_educ  \n",
       "0       NaN      0.00    214         Lima           4  UNIVERSITARIA  \n",
       "1   1824.67   1933.75    175  La Libertad           1        TECNICA  \n",
       "2   2797.38    188.29    187         Lima           0  UNIVERSITARIA  \n",
       "3       NaN      0.00    187       Ancash           0        TECNICA  \n",
       "4   2000.00  11010.65    189         Lima           0        TECNICA  "
      ]
     },
     "execution_count": 2,
     "metadata": {},
     "output_type": "execute_result"
    }
   ],
   "source": [
    "dataset = pd.read_csv(\"../data/raw/data.csv\")\n",
    "dataset.head()"
   ]
  },
  {
   "cell_type": "markdown",
   "metadata": {},
   "source": [
    "### Analisis Exploratorio"
   ]
  },
  {
   "cell_type": "code",
   "execution_count": 3,
   "metadata": {},
   "outputs": [
    {
     "data": {
      "text/plain": [
       "<bound method NDFrame.describe of       mora  atraso  vivienda  edad  dias_lab  exp_sf  nivel_ahorro   ingreso  \\\n",
       "0        0     235  FAMILIAR    30      3748    93.0             5   3500.00   \n",
       "1        0      18  FAMILIAR    32      4598     9.0            12    900.00   \n",
       "2        0       0  FAMILIAR    26      5148     8.0             2   2400.00   \n",
       "3        0       0  FAMILIAR    36      5179    20.0            12   2700.00   \n",
       "4        0       0  FAMILIAR    46      3960     NaN             1   3100.00   \n",
       "...    ...     ...       ...   ...       ...     ...           ...       ...   \n",
       "8394     0       0    PROPIA    43      7917   106.0            12  13660.00   \n",
       "8395     1       0  FAMILIAR    29      3352    25.0             0    813.00   \n",
       "8396     0       0  FAMILIAR    32      6821    19.0            12   3000.00   \n",
       "8397     1       0    PROPIA    38      3882     7.0            12   3069.23   \n",
       "8398     0       0  FAMILIAR    36      5909    51.0            12   3500.00   \n",
       "\n",
       "       linea_sf  deuda_sf  score         zona  clasif_sbs     nivel_educ  \n",
       "0           NaN      0.00    214         Lima           4  UNIVERSITARIA  \n",
       "1       1824.67   1933.75    175  La Libertad           1        TECNICA  \n",
       "2       2797.38    188.29    187         Lima           0  UNIVERSITARIA  \n",
       "3           NaN      0.00    187       Ancash           0        TECNICA  \n",
       "4       2000.00  11010.65    189         Lima           0        TECNICA  \n",
       "...         ...       ...    ...          ...         ...            ...  \n",
       "8394  121543.40   8338.46    224         Lima           1  UNIVERSITARIA  \n",
       "8395    2200.00      0.00    197         Lima           1  UNIVERSITARIA  \n",
       "8396   10087.00    933.68    200         Lima           1  UNIVERSITARIA  \n",
       "8397   23994.00  13954.65    221   Lambayeque           1  UNIVERSITARIA  \n",
       "8398    9060.00  10555.83    216         Lima           0  UNIVERSITARIA  \n",
       "\n",
       "[8399 rows x 14 columns]>"
      ]
     },
     "execution_count": 3,
     "metadata": {},
     "output_type": "execute_result"
    }
   ],
   "source": [
    "dataset.describe"
   ]
  },
  {
   "cell_type": "code",
   "execution_count": 4,
   "metadata": {},
   "outputs": [
    {
     "data": {
      "text/plain": [
       "mora              int64\n",
       "atraso            int64\n",
       "vivienda         object\n",
       "edad              int64\n",
       "dias_lab          int64\n",
       "exp_sf          float64\n",
       "nivel_ahorro      int64\n",
       "ingreso         float64\n",
       "linea_sf        float64\n",
       "deuda_sf        float64\n",
       "score             int64\n",
       "zona             object\n",
       "clasif_sbs        int64\n",
       "nivel_educ       object\n",
       "dtype: object"
      ]
     },
     "execution_count": 4,
     "metadata": {},
     "output_type": "execute_result"
    }
   ],
   "source": [
    "dataset.dtypes"
   ]
  },
  {
   "cell_type": "code",
   "execution_count": 5,
   "metadata": {},
   "outputs": [
    {
     "data": {
      "text/plain": [
       "mora            0.000000\n",
       "atraso          0.000000\n",
       "vivienda        0.000000\n",
       "edad            0.000000\n",
       "dias_lab        0.000000\n",
       "exp_sf          0.217883\n",
       "nivel_ahorro    0.000000\n",
       "ingreso         0.000000\n",
       "linea_sf        0.134183\n",
       "deuda_sf        0.054887\n",
       "score           0.000000\n",
       "zona            0.000000\n",
       "clasif_sbs      0.000000\n",
       "nivel_educ      0.000000\n",
       "dtype: float64"
      ]
     },
     "execution_count": 5,
     "metadata": {},
     "output_type": "execute_result"
    }
   ],
   "source": [
    "dataset.isnull().mean()"
   ]
  },
  {
   "cell_type": "code",
   "execution_count": 8,
   "metadata": {},
   "outputs": [
    {
     "data": {
      "image/png": "[encoded data removed]",
      "text/plain": [
       "<Figure size 640x480 with 1 Axes>"
      ]
     },
     "metadata": {},
     "output_type": "display_data"
    }
   ],
   "source": [
    "sns.countplot(x='mora', data=dataset)\n",
    "plt.show()"
   ]
  },
  {
   "cell_type": "code",
   "execution_count": 10,
   "metadata": {},
   "outputs": [],
   "source": [
    "# Definir las columnas numéricas y categóricas\n",
    "num_features = ['edad', 'dias_lab', 'exp_sf', 'nivel_ahorro', 'ingreso', 'linea_sf', 'deuda_sf', 'score','clasif_sbs']\n",
    "cat_features = ['vivienda', 'zona', 'nivel_educ']\n"
   ]
  },
  {
   "cell_type": "code",
   "execution_count": 11,
   "metadata": {},
   "outputs": [],
   "source": [
    "num_imputer = SimpleImputer(strategy='mean')\n",
    "\n",
    "dataset[num_features] = num_imputer.fit_transform(dataset[num_features])"
   ]
  },
  {
   "cell_type": "markdown",
   "metadata": {},
   "source": [
    "### Ingeniería de características "
   ]
  },
  {
   "cell_type": "code",
   "execution_count": 12,
   "metadata": {},
   "outputs": [
    {
     "name": "stdout",
     "output_type": "stream",
     "text": [
      "   mora  atraso  vivienda  edad  dias_lab     exp_sf  nivel_ahorro  ingreso  \\\n",
      "0     0     235         1  30.0    3748.0  93.000000           5.0   3500.0   \n",
      "1     0      18         1  32.0    4598.0   9.000000          12.0    900.0   \n",
      "2     0       0         1  26.0    5148.0   8.000000           2.0   2400.0   \n",
      "3     0       0         1  36.0    5179.0  20.000000          12.0   2700.0   \n",
      "4     0       0         1  46.0    3960.0  32.401583           1.0   3100.0   \n",
      "\n",
      "       linea_sf  deuda_sf  score  zona  clasif_sbs  nivel_educ  \n",
      "0  11987.241038      0.00  214.0    14         4.0           3  \n",
      "1   1824.670000   1933.75  175.0    12         1.0           2  \n",
      "2   2797.380000    188.29  187.0    14         0.0           3  \n",
      "3  11987.241038      0.00  187.0     1         0.0           2  \n",
      "4   2000.000000  11010.65  189.0    14         0.0           2  \n"
     ]
    }
   ],
   "source": [
    "# Crear un codificador (LabelEncoder)\n",
    "label_encoder = LabelEncoder()\n",
    "\n",
    "# Aplicar Label Encoding a cada columna categórica\n",
    "for col in cat_features:\n",
    "    dataset[col] = label_encoder.fit_transform(dataset[col])\n",
    "\n",
    "# Ver las primeras filas del dataset con las columnas codificadas\n",
    "print(dataset.head())"
   ]
  },
  {
   "cell_type": "code",
   "execution_count": 13,
   "metadata": {},
   "outputs": [],
   "source": [
    "dataset.to_csv(r'C:\\Users\\karen\\Documents\\Master\\Business Intelligence y analisis de datos\\8to Trimestre\\Product Development\\Proyecto2\\dataset_preparado.csv', index=False)\n"
   ]
  },
  {
   "cell_type": "code",
   "execution_count": 14,
   "metadata": {},
   "outputs": [
    {
     "data": {
      "text/plain": [
       "mora            0.0\n",
       "atraso          0.0\n",
       "vivienda        0.0\n",
       "edad            0.0\n",
       "dias_lab        0.0\n",
       "exp_sf          0.0\n",
       "nivel_ahorro    0.0\n",
       "ingreso         0.0\n",
       "linea_sf        0.0\n",
       "deuda_sf        0.0\n",
       "score           0.0\n",
       "zona            0.0\n",
       "clasif_sbs      0.0\n",
       "nivel_educ      0.0\n",
       "dtype: float64"
      ]
     },
     "execution_count": 14,
     "metadata": {},
     "output_type": "execute_result"
    }
   ],
   "source": [
    "dataset.isnull().mean()"
   ]
  }
 ],
 "metadata": {
  "kernelspec": {
   "display_name": "venv-churning-model",
   "language": "python",
   "name": "python3"
  },
  "language_info": {
   "codemirror_mode": {
    "name": "ipython",
    "version": 3
   },
   "file_extension": ".py",
   "mimetype": "text/x-python",
   "name": "python",
   "nbconvert_exporter": "python",
   "pygments_lexer": "ipython3",
   "version": "3.12.7"
  }
 },
 "nbformat": 4,
 "nbformat_minor": 2
}
